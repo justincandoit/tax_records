{
 "cells": [
  {
   "cell_type": "code",
   "execution_count": null,
   "metadata": {},
   "outputs": [],
   "source": [
    "from selenium import webdriver\n",
    "from selenium.webdriver.support.ui import WebDriverWait\n",
    "from selenium.webdriver.support import expected_conditions as EC\n",
    "from selenium.webdriver.common.by import By\n",
    "import time\n",
    "import csv\n",
    "from bs4 import BeautifulSoup"
   ]
  },
  {
   "cell_type": "code",
   "execution_count": null,
   "metadata": {},
   "outputs": [],
   "source": [
    "lavallette_start_url = \"https://wipp.edmundsassoc.com/Wipp/?wippid=1516\"\n",
    "seasideheights_start_url = \"https://wipp.edmundsassoc.com/Wipp/?wippid=1527\"\n",
    "driver = webdriver.Chrome(\"C:/Users/Justin/Downloads/chromedriver_win32/chromedriver.exe\")\n",
    "wait = WebDriverWait(driver, 3)\n",
    "Xsearch_result_table = \"//div[@class='dialogMiddleCenterInner dialogContent']/table/tbody/tr[1]/td/table\"\n",
    "\n"
   ]
  },
  {
   "cell_type": "code",
   "execution_count": null,
   "metadata": {},
   "outputs": [],
   "source": [
    "\n",
    "# driver.find_element_by_xpath(\"//button[contains(text(), 'Next')]\").click()\n",
    "\n",
    "\n",
    "def get_table_data(table_object):\n",
    "    datasets = []\n",
    "    for row in table_object.find_all(\"tr\")[1:]:\n",
    "        data_set = [td.get_text().strip() for td in row.find_all(\"td\")]\n",
    "        datasets.append(data_set)\n",
    "    return datasets\n"
   ]
  },
  {
   "cell_type": "code",
   "execution_count": null,
   "metadata": {},
   "outputs": [],
   "source": [
    "# main ============================================================\n",
    "# launch browser\n",
    "driver.get(seasideheights_start_url)"
   ]
  },
  {
   "cell_type": "code",
   "execution_count": null,
   "metadata": {},
   "outputs": [],
   "source": [
    "# open search result table\n",
    "element = wait.until(EC.element_to_be_clickable((By.XPATH, \"//button\")))\n",
    "element.click()\n"
   ]
  },
  {
   "cell_type": "code",
   "execution_count": null,
   "metadata": {},
   "outputs": [],
   "source": [
    "output_data = []\n",
    "single_page = 'jjjjjjjjjjjjjjjjjjjj'"
   ]
  },
  {
   "cell_type": "code",
   "execution_count": null,
   "metadata": {},
   "outputs": [],
   "source": [
    "while len(single_page) == 20:\n",
    "    wait.until(EC.presence_of_element_located((By.XPATH, Xsearch_result_table)))\n",
    "    names_table = driver.find_element_by_xpath(Xsearch_result_table)\n",
    "    doc = names_table.get_attribute('outerHTML')\n",
    "    soup = BeautifulSoup(doc, features='lxml')\n",
    "    table = soup.find(\"table\")\n",
    "    single_page = get_table_data(table)\n",
    "    output_data += single_page\n",
    "    driver.find_element_by_xpath(\"//button[contains(text(), 'Next')]\").click()\n",
    "    print(len(output_data))"
   ]
  },
  {
   "cell_type": "code",
   "execution_count": null,
   "metadata": {},
   "outputs": [],
   "source": [
    "len(output_data)"
   ]
  },
  {
   "cell_type": "code",
   "execution_count": null,
   "metadata": {},
   "outputs": [],
   "source": []
  },
  {
   "cell_type": "code",
   "execution_count": null,
   "metadata": {},
   "outputs": [],
   "source": []
  }
 ],
 "metadata": {
  "kernelspec": {
   "display_name": "Python 3",
   "language": "python",
   "name": "python3"
  },
  "language_info": {
   "codemirror_mode": {
    "name": "ipython",
    "version": 3
   },
   "file_extension": ".py",
   "mimetype": "text/x-python",
   "name": "python",
   "nbconvert_exporter": "python",
   "pygments_lexer": "ipython3",
   "version": "3.7.3"
  }
 },
 "nbformat": 4,
 "nbformat_minor": 4
}
